{
 "cells": [
  {
   "cell_type": "markdown",
   "metadata": {},
   "source": [
    "# INDIAN HUMANS  AND OTHERS CLASSIFIER"
   ]
  },
  {
   "cell_type": "markdown",
   "metadata": {},
   "source": [
    "# "
   ]
  },
  {
   "cell_type": "code",
   "execution_count": null,
   "metadata": {},
   "outputs": [],
   "source": [
    "import numpy as np\n",
    "import pandas as pd\n",
    "import seaborn as sns\n",
    "import matplotlib.pyplot as plt\n",
    "from keras.models import Sequential \n",
    "from keras.layers import Dense\n",
    "from keras.utils import to_categorical\n",
    "from keras.layers import Flatten,MaxPooling2D,Conv2D,LeakyReLU\n",
    "from keras import optimizers\n"
   ]
  },
  {
   "cell_type": "code",
   "execution_count": null,
   "metadata": {},
   "outputs": [],
   "source": [
    "import cv2\n",
    "import os\n",
    "def load_images_from_folder(folder):\n",
    "    images = []\n",
    "    for filename in os.listdir(folder):\n",
    "        img = cv2.imread(os.path.join(folder,filename))\n",
    "        if img is not None:\n",
    "            img1=cv2.resize(img,(64,64))\n",
    "            images.append(img1)\n",
    "    return images\n",
    "#Load the images \n",
    "dark=load_images_from_folder('') # Dark People Images Folder\n",
    "fair=load_images_from_folder('') # Fiar People Images Folder\n",
    "mild=load_images_from_folder('') # Mild People Images Folder\n",
    "foreigners=load_images_from_folder('') # Foreigners Images Folder \n",
    "non_humans=load_images_from_folder('') # Non- Human Images Folders\n",
    "\n",
    "\n",
    "\n",
    "\n",
    "train_dark = np.array(dark)\n",
    "train_fair = np.array(fair)\n",
    "\n",
    "train_mild = np.array(mild)\n",
    "train_foreigners = np.array(foreigners)\n",
    "train_non_humans = np.array(non_humans)\n",
    "\n",
    "\n",
    "\n",
    "#Visualize the images \n",
    "fig = plt.figure(figsize=(20,5))\n",
    "for i in range(36):\n",
    "    ax = fig.add_subplot(3,12, i + 1, xticks=[], yticks=[])\n",
    "    ax.imshow(np.squeeze(dark[i]))"
   ]
  },
  {
   "cell_type": "code",
   "execution_count": null,
   "metadata": {},
   "outputs": [],
   "source": [
    "train_dark_label=np.zeros(len(train_dark))\n",
    "train_fair_label=np.ones(len(train_fair))\n",
    "train_mild_label=np.full(len(train_mild),2)\n",
    "train_foreigners_label=np.full(len(train_foreigners),3)\n",
    "train_non_humans_label=np.full(len(train_non_humans),4)\n",
    "\n",
    "\n",
    "\n",
    "print(train_dark.shape,train_dark_label.shape)\n",
    "print(train_fair.shape,train_fair_label.shape)\n",
    "print(train_mild.shape,train_mild_label.shape)\n",
    "print(train_foreigners.shape,train_foreigners_label.shape)\n",
    "print(train_non_humans.shape,train_non_humans_label.shape)\n"
   ]
  },
  {
   "cell_type": "code",
   "execution_count": null,
   "metadata": {},
   "outputs": [],
   "source": [
    "#Concatenate \n",
    "X=np.concatenate((train_dark,train_fair,train_mild,train_foreigners,train_non_humans))\n",
    "y=np.concatenate((train_dark_label,train_fair_label,train_mild_label,train_foreigners_label,train_non_humans_label))\n",
    "y_label =to_categorical(y)\n",
    "\n",
    "#Train -Test Split\n",
    "from sklearn.model_selection import train_test_split\n",
    "X_train, X_test, y_train, y_test = train_test_split(X, y_label, test_size=0.02, random_state=0)\n",
    "#Normalize the data\n",
    "X_train=X_train.astype('float32')\n",
    "X_test=X_test.astype('float32')\n",
    "X_train=X_train/255\n",
    "X_test=X_test/255\n",
    "print(\"Training Data\",X_train.shape)\n",
    "print(\"Testing Data\",X_test.shape)"
   ]
  },
  {
   "cell_type": "code",
   "execution_count": null,
   "metadata": {},
   "outputs": [],
   "source": [
    "#HyperParameters\n",
    "batch_size = 64\n",
    "epochs =10\n",
    "num_classes = 5\n",
    "input_shape=(64,64,3)\n",
    "#Model Define\n",
    "model = Sequential()\n",
    "model.add(Conv2D(32, kernel_size=(3,3),activation='linear',input_shape=input_shape,padding='same'))\n",
    "model.add(MaxPooling2D((2, 2),padding='same'))\n",
    "model.add(LeakyReLU(alpha=0.01))  \n",
    "\n",
    "model.add(Conv2D(64, kernel_size=(3,3),activation='linear',input_shape=input_shape,padding='same'))\n",
    "model.add(MaxPooling2D((2, 2),padding='same'))\n",
    "model.add(LeakyReLU(alpha=0.01))  \n",
    "\n",
    "model.add(Conv2D(128, kernel_size=(3,3),activation='linear',input_shape=input_shape,padding='same'))\n",
    "model.add(MaxPooling2D((2, 2),padding='same'))\n",
    "model.add(LeakyReLU(alpha=0.01))  \n",
    "\n",
    "\n",
    "\n",
    "\n",
    "\n",
    "\n",
    "model.add(Flatten())\n",
    "model.add(Dense(128, activation='softmax'))\n",
    "model.add(LeakyReLU(alpha=0.01))    \n",
    "\n",
    "\n",
    "\n",
    "\n",
    "\n",
    "model.add(Dense(5, activation='softmax'))\n",
    "model.compile(loss='categorical_crossentropy', optimizer='Adam',metrics=['accuracy'])\n",
    "model.summary()"
   ]
  },
  {
   "cell_type": "code",
   "execution_count": null,
   "metadata": {},
   "outputs": [],
   "source": [
    "#np.random.seed(42)\n",
    "model_1=model.fit(X_train, y_train, validation_data=(X_test, y_test), epochs=epochs, batch_size=64,shuffle=True)\n",
    "scores = model.evaluate(X_test, y_test, verbose=0)\n",
    "print(\"Accuracy: %.2f%%\" % (scores[1]*100))"
   ]
  },
  {
   "cell_type": "code",
   "execution_count": null,
   "metadata": {},
   "outputs": [],
   "source": [
    "test_eval = model.evaluate(X_test, y_test, verbose=0)\n",
    "print('Test loss:', test_eval[0])\n",
    "print('Test accuracy:', test_eval[1])\n",
    "accuracy = model_1.history['accuracy']\n",
    "val_accuracy = model_1.history['val_accuracy']\n",
    "loss = model_1.history['loss']\n",
    "val_loss = model_1.history['val_loss']\n",
    "epochs = range(len(accuracy))\n",
    "plt.plot(epochs, accuracy, 'r', label='Training accuracy')\n",
    "plt.plot(epochs, val_accuracy, 'b', label='Validation accuracy')\n",
    "plt.title('Training and validation accuracy')\n",
    "plt.legend()\n",
    "plt.figure()\n",
    "plt.plot(epochs, loss, 'r', label='Training loss')\n",
    "plt.plot(epochs, val_loss, 'b', label='Validation loss')\n",
    "plt.title('Training and validation loss')"
   ]
  },
  {
   "cell_type": "code",
   "execution_count": null,
   "metadata": {},
   "outputs": [],
   "source": [
    "from sklearn.metrics import confusion_matrix\n",
    "y_test_pred=model.predict(X_test)\n",
    "cnf_matrix = confusion_matrix(y_test.argmax(axis=1), y_test_pred.argmax(axis=1))\n",
    "cnf_matrix"
   ]
  },
  {
   "cell_type": "code",
   "execution_count": null,
   "metadata": {},
   "outputs": [],
   "source": [
    "testdata= load_images_from_folder('') #testing Dataset\n",
    "testimages=np.array(testdata)\n",
    "predicted_classes = model.predict(testimages)\n",
    "predicted_classes1 = np.argmax(np.round(predicted_classes),axis=1)\n",
    "#Visualize the test data\n",
    "fig = plt.figure(figsize=(10,100))\n",
    "for i in range (878):\n",
    "    ax = fig.add_subplot(97, 12, i+1,xticks=[], yticks=[])\n",
    "    plt.imshow(testimages[i])\n",
    "    if (predicted_classes1[i]==0):\n",
    "        plt.xlabel('dark')\n",
    "    if (predicted_classes1[i]==1):\n",
    "        plt.xlabel('fair')\n",
    "    if (predicted_classes1[i]==2):\n",
    "        plt.xlabel('mild')\n",
    "    if (predicted_classes1[i]==3):\n",
    "        plt.xlabel('foreigners')\n",
    "    if (predicted_classes1[i]==4):\n",
    "        plt.xlabel('non_humans')\n",
    "            \n",
    "            \n",
    "\n",
    "            \n",
    "           \n",
    "      \n"
   ]
  },
  {
   "cell_type": "markdown",
   "metadata": {},
   "source": [
    "# THANK YOU :))\n"
   ]
  },
  {
   "cell_type": "code",
   "execution_count": null,
   "metadata": {},
   "outputs": [],
   "source": []
  }
 ],
 "metadata": {
  "kernelspec": {
   "display_name": "Python 3",
   "language": "python",
   "name": "python3"
  },
  "language_info": {
   "codemirror_mode": {
    "name": "ipython",
    "version": 3
   },
   "file_extension": ".py",
   "mimetype": "text/x-python",
   "name": "python",
   "nbconvert_exporter": "python",
   "pygments_lexer": "ipython3",
   "version": "3.8.3"
  }
 },
 "nbformat": 4,
 "nbformat_minor": 5
}